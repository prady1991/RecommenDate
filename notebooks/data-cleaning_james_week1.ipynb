{
 "cells": [
  {
   "cell_type": "markdown",
   "id": "ee1c2e7f",
   "metadata": {
    "heading_collapsed": true
   },
   "source": [
    "# Loading the dataset"
   ]
  },
  {
   "cell_type": "code",
   "execution_count": 4,
   "id": "0c50ee2d",
   "metadata": {
    "hidden": true
   },
   "outputs": [],
   "source": [
    "import numpy as np\n",
    "import pandas as pd\n",
    "from sklearn.preprocessing import OneHotEncoder\n",
    "\n",
    "# import nltk\n",
    "# nltk.download('popular')\n",
    "from nltk.corpus import stopwords\n",
    "import string\n",
    "from nltk.stem.wordnet import WordNetLemmatizer\n",
    "from nltk import word_tokenize"
   ]
  },
  {
   "cell_type": "code",
   "execution_count": 5,
   "id": "ba11ea3b",
   "metadata": {
    "hidden": true,
    "scrolled": true
   },
   "outputs": [],
   "source": [
    "data = pd.read_csv(\"../RecommenDate/data/okcupid_profiles.csv\")"
   ]
  },
  {
   "cell_type": "markdown",
   "id": "c79594ff",
   "metadata": {
    "heading_collapsed": true
   },
   "source": [
    "# Changing the null values in drugs, smokes, offspring and income"
   ]
  },
  {
   "cell_type": "markdown",
   "id": "0871bc65",
   "metadata": {
    "hidden": true
   },
   "source": [
    "Assigning the null values to 'rather not say'"
   ]
  },
  {
   "cell_type": "code",
   "execution_count": null,
   "id": "4a62b0dc",
   "metadata": {
    "hidden": true
   },
   "outputs": [],
   "source": [
    "data[['drugs', 'smokes', 'offspring']] = data[['drugs', 'smokes', 'offspring']].fillna('rather not say')"
   ]
  },
  {
   "cell_type": "markdown",
   "id": "aa3ce180",
   "metadata": {
    "hidden": true
   },
   "source": [
    "Changing the null values in income to the mean of the rest of the dataset"
   ]
  },
  {
   "cell_type": "code",
   "execution_count": null,
   "id": "fb76599b",
   "metadata": {
    "hidden": true
   },
   "outputs": [],
   "source": [
    "tmp = data[data.income != -1]\n",
    "mean = tmp['income'].mean().round(1)\n",
    "\n",
    "data['income'] = data['income'].replace(-1, mean)"
   ]
  },
  {
   "cell_type": "markdown",
   "id": "a7ba05dd",
   "metadata": {
    "heading_collapsed": true
   },
   "source": [
    "# Cleaning essays 0,1, and 2 "
   ]
  },
  {
   "cell_type": "code",
   "execution_count": null,
   "id": "3aafee6e",
   "metadata": {
    "hidden": true
   },
   "outputs": [],
   "source": [
    "def clean (text):\n",
    "    for punctuation in string.punctuation:\n",
    "        text = text.replace(punctuation, ' ') # Remove Punctuation\n",
    "    lowercased = text.lower() # Lower Case\n",
    "    tokenized = word_tokenize(lowercased) # Tokenize\n",
    "    words_only = [word for word in tokenized if word.isalpha()] # Remove numbers\n",
    "    stop_words = set(stopwords.words('english')) # Make stopword list\n",
    "    without_stopwords = [word for word in words_only if not word in stop_words] # Remove Stop Words\n",
    "    lemma=WordNetLemmatizer() # Initiate Lemmatizer\n",
    "    lemmatized = [lemma.lemmatize(word) for word in without_stopwords] # Lemmatize\n",
    "    return ' '.join(lemmatized)"
   ]
  },
  {
   "cell_type": "code",
   "execution_count": null,
   "id": "fc9abbd4",
   "metadata": {
    "hidden": true
   },
   "outputs": [],
   "source": [
    "# data[['essay0', 'essay1', 'essay2']]=data[['essay0', 'essay1', 'essay2']].fillna('')\n",
    "data['essay0'] = data['essay0'].fillna('')\n",
    "data['essay1'] = data['essay1'].fillna('')\n",
    "data['essay2'] = data['essay2'].fillna('')"
   ]
  },
  {
   "cell_type": "code",
   "execution_count": null,
   "id": "5c6bae29",
   "metadata": {
    "hidden": true
   },
   "outputs": [],
   "source": [
    "data['essay0_clean'] = data['essay0'].apply(lambda x:clean(x))\n",
    "data['essay1_clean'] = data['essay1'].apply(lambda x:clean(x))\n",
    "data['essay2_clean'] = data['essay2'].apply(lambda x:clean(x))\n",
    "\n",
    "\n",
    "data.head(10)"
   ]
  },
  {
   "cell_type": "markdown",
   "id": "f1d131e9",
   "metadata": {
    "heading_collapsed": true
   },
   "source": [
    "# OneHotEncoding"
   ]
  },
  {
   "cell_type": "code",
   "execution_count": null,
   "id": "704cc323",
   "metadata": {
    "hidden": true
   },
   "outputs": [],
   "source": []
  }
 ],
 "metadata": {
  "kernelspec": {
   "display_name": "Python 3.8.13 64-bit ('shims')",
   "language": "python",
   "name": "python3"
  },
  "language_info": {
   "codemirror_mode": {
    "name": "ipython",
    "version": 3
   },
   "file_extension": ".py",
   "mimetype": "text/x-python",
   "name": "python",
   "nbconvert_exporter": "python",
   "pygments_lexer": "ipython3",
   "version": "3.8.13"
  },
  "toc": {
   "base_numbering": 1,
   "nav_menu": {},
   "number_sections": true,
   "sideBar": true,
   "skip_h1_title": false,
   "title_cell": "Table of Contents",
   "title_sidebar": "Contents",
   "toc_cell": false,
   "toc_position": {},
   "toc_section_display": true,
   "toc_window_display": false
  },
  "vscode": {
   "interpreter": {
    "hash": "6ee20c6e0097167fdea31101eb44251aeb7bbb6545b9f813d82369e268ae541a"
   }
  }
 },
 "nbformat": 4,
 "nbformat_minor": 5
}
